{
 "cells": [
  {
   "cell_type": "code",
   "execution_count": 37,
   "metadata": {},
   "outputs": [
    {
     "name": "stdout",
     "output_type": "stream",
     "text": [
      "Defaulting to user installation because normal site-packages is not writeable\n",
      "Requirement already satisfied: selenium in /home/vishnujayan/.local/lib/python3.10/site-packages (4.8.3)\n",
      "Requirement already satisfied: certifi>=2021.10.8 in /home/vishnujayan/.local/lib/python3.10/site-packages (from selenium) (2022.12.7)\n",
      "Requirement already satisfied: trio-websocket~=0.9 in /home/vishnujayan/.local/lib/python3.10/site-packages (from selenium) (0.10.2)\n",
      "Requirement already satisfied: urllib3[socks]~=1.26 in /usr/lib/python3.10/site-packages (from selenium) (1.26.12)\n",
      "Requirement already satisfied: trio~=0.17 in /home/vishnujayan/.local/lib/python3.10/site-packages (from selenium) (0.22.0)\n",
      "Requirement already satisfied: outcome in /home/vishnujayan/.local/lib/python3.10/site-packages (from trio~=0.17->selenium) (1.2.0)\n",
      "Requirement already satisfied: sniffio in /home/vishnujayan/.local/lib/python3.10/site-packages (from trio~=0.17->selenium) (1.3.0)\n",
      "Requirement already satisfied: exceptiongroup>=1.0.0rc9 in /home/vishnujayan/.local/lib/python3.10/site-packages (from trio~=0.17->selenium) (1.1.1)\n",
      "Requirement already satisfied: idna in /usr/lib/python3.10/site-packages (from trio~=0.17->selenium) (3.3)\n",
      "Requirement already satisfied: attrs>=19.2.0 in /usr/lib/python3.10/site-packages (from trio~=0.17->selenium) (21.4.0)\n",
      "Requirement already satisfied: sortedcontainers in /usr/lib/python3.10/site-packages (from trio~=0.17->selenium) (2.4.0)\n",
      "Requirement already satisfied: async-generator>=1.9 in /usr/lib/python3.10/site-packages (from trio~=0.17->selenium) (1.10)\n",
      "Requirement already satisfied: wsproto>=0.14 in /home/vishnujayan/.local/lib/python3.10/site-packages (from trio-websocket~=0.9->selenium) (1.2.0)\n",
      "Requirement already satisfied: PySocks!=1.5.7,<2.0,>=1.5.6 in /usr/lib/python3.10/site-packages (from urllib3[socks]~=1.26->selenium) (1.7.1)\n",
      "Requirement already satisfied: h11<1,>=0.9.0 in /home/vishnujayan/.local/lib/python3.10/site-packages (from wsproto>=0.14->trio-websocket~=0.9->selenium) (0.14.0)\n"
     ]
    }
   ],
   "source": [
    "!pip install selenium"
   ]
  },
  {
   "cell_type": "code",
   "execution_count": 17,
   "metadata": {},
   "outputs": [],
   "source": [
    "from time import sleep, time_ns\n",
    "\n",
    "from selenium import webdriver\n",
    "from selenium.webdriver.common.by import By\n",
    "from selenium.webdriver.support.ui import Select\n",
    "from selenium.webdriver.support.wait import WebDriverWait\n",
    "from selenium.webdriver.support import expected_conditions as EC\n",
    "from selenium.common.exceptions import NoSuchElementException\n",
    "\n",
    "import pandas as pd\n"
   ]
  },
  {
   "cell_type": "code",
   "execution_count": 29,
   "metadata": {},
   "outputs": [
    {
     "name": "stdout",
     "output_type": "stream",
     "text": [
      "8\n",
      "[{'sl_no': '1', 'village': 'अकोला', 'survey_account_number': '4069', 'peak_monitoring_area': '5956.97', 'permanent_area': '0.00', 'current_area': '29.76', 'total_area': '5986.73'}, {'sl_no': '2', 'village': 'अमरावती', 'survey_account_number': '3616', 'peak_monitoring_area': '5386.93', 'permanent_area': '0.00', 'current_area': '14.59', 'total_area': '5401.52'}, {'sl_no': '3', 'village': 'बुलडाणा', 'survey_account_number': '9050', 'peak_monitoring_area': '12503.17', 'permanent_area': '0.00', 'current_area': '35.94', 'total_area': '12539.11'}, {'sl_no': '4', 'village': 'यवतमाळ', 'survey_account_number': '3968', 'peak_monitoring_area': '6788.61', 'permanent_area': '0.00', 'current_area': '47.67', 'total_area': '6836.28'}, {'sl_no': '5', 'village': 'वाशिम', 'survey_account_number': '1364', 'peak_monitoring_area': '2125.23', 'permanent_area': '0.00', 'current_area': '16.05', 'total_area': '2141.29'}]\n"
     ]
    }
   ],
   "source": [
    "\"\"\"\n",
    "The code below for chrome browser in linux.\n",
    "path = \"/usr/bin/chromedriver\"\n",
    "option = webdriver.ChromeOptions()\n",
    "browser = webdriver.Chrome(service=path, options=option)\n",
    "\"\"\"\n",
    "url = \"http://115.124.110.196:8080/epeek/\"\n",
    "browser = webdriver.Firefox()\n",
    "browser.get(url)\n",
    "browser.implicitly_wait(2) #wait for two second to load the website fully\n",
    "\n",
    "#Select the value from the season dropdown\n",
    "season_drop = Select(browser.find_element(By.ID, 'seasonOpt'))\n",
    "season_drop.select_by_value('उन्हाळी')\n",
    "sleep(1)\n",
    "\n",
    "#Select the value from the division dropdown\n",
    "div_drop = Select(browser.find_element(By.ID, 'divOpt'))\n",
    "div_drop.select_by_value('amravati')\n",
    "sleep(1)\n",
    "\n",
    "#Select the value from the district dropdown\n",
    "dist_drop = Select(browser.find_element(By.ID, 'distOpt'))\n",
    "dist_drop.select_by_value('-')\n",
    "sleep(1)\n",
    "\n",
    "#Select the values from the village dropdown\n",
    "village_drop = Select(browser.find_element(By.ID, 'villOpt'))\n",
    "village_drop.select_by_value('-')\n",
    "\n",
    "#Select button\n",
    "button = browser.find_element(By.XPATH, '/html/body/div/div[1]/div[2]/table/tbody/tr[11]/td/button')\n",
    "button.click()\n",
    "sleep(20)\n",
    "\n",
    "object_content = browser.find_element(By.TAG_NAME, 'object')\n",
    "browser.switch_to.frame(object_content)\n",
    "\n",
    "rows = len(browser.find_elements(By.CSS_SELECTOR, 'tr'))\n",
    "print(rows)\n",
    "row = 2\n",
    "data_list = []\n",
    "while(row<rows-1):\n",
    "    data = {}\n",
    "    try:\n",
    "        data['sl_no'] = browser.find_element(By.XPATH,f'//*[@id=\"tbl_exporttable_to_xls\"]/tbody/tr[{row}]/td[1]').text\n",
    "        data['village'] = browser.find_element(By.XPATH,f'//*[@id=\"tbl_exporttable_to_xls\"]/tbody/tr[{row}]/td[2]').text\n",
    "        data['survey_account_number'] = browser.find_element(By.XPATH,f'//*[@id=\"tbl_exporttable_to_xls\"]/tbody/tr[{row}]/td[3]').text\n",
    "        data['peak_monitoring_area'] = browser.find_element(By.XPATH,f'//*[@id=\"tbl_exporttable_to_xls\"]/tbody/tr[{row}]/td[4]').text\n",
    "        data['permanent_area'] = browser.find_element(By.XPATH,f'//*[@id=\"tbl_exporttable_to_xls\"]/tbody/tr[{row}]/td[5]').text\n",
    "        data['current_area'] = browser.find_element(By.XPATH,f'//*[@id=\"tbl_exporttable_to_xls\"]/tbody/tr[{row}]/td[6]').text\n",
    "        data['total_area'] = browser.find_element(By.XPATH,f'//*[@id=\"tbl_exporttable_to_xls\"]/tbody/tr[{row}]/td[7]').text\n",
    "        \n",
    "        data_list.append(data)\n",
    "        row += 1\n",
    "\n",
    "    except NoSuchElementException:\n",
    "        break\n",
    "\n",
    "print(data_list)\n",
    "\n",
    "data_set = pd.DataFrame(data_list)\n",
    "data_set.to_csv(f'data/data_{time_ns()}.csv')\n",
    "\n",
    "\n",
    "browser.close()\n",
    "\n"
   ]
  }
 ],
 "metadata": {
  "kernelspec": {
   "display_name": "Python 3.10.8 64-bit",
   "language": "python",
   "name": "python3"
  },
  "language_info": {
   "codemirror_mode": {
    "name": "ipython",
    "version": 3
   },
   "file_extension": ".py",
   "mimetype": "text/x-python",
   "name": "python",
   "nbconvert_exporter": "python",
   "pygments_lexer": "ipython3",
   "version": "3.10.10"
  },
  "orig_nbformat": 4,
  "vscode": {
   "interpreter": {
    "hash": "e7370f93d1d0cde622a1f8e1c04877d8463912d04d973331ad4851f04de6915a"
   }
  }
 },
 "nbformat": 4,
 "nbformat_minor": 2
}
