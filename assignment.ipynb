{
 "cells": [
  {
   "cell_type": "code",
   "execution_count": 37,
   "metadata": {},
   "outputs": [
    {
     "name": "stdout",
     "output_type": "stream",
     "text": [
      "Defaulting to user installation because normal site-packages is not writeable\n",
      "Requirement already satisfied: selenium in /home/vishnujayan/.local/lib/python3.10/site-packages (4.8.3)\n",
      "Requirement already satisfied: certifi>=2021.10.8 in /home/vishnujayan/.local/lib/python3.10/site-packages (from selenium) (2022.12.7)\n",
      "Requirement already satisfied: trio-websocket~=0.9 in /home/vishnujayan/.local/lib/python3.10/site-packages (from selenium) (0.10.2)\n",
      "Requirement already satisfied: urllib3[socks]~=1.26 in /usr/lib/python3.10/site-packages (from selenium) (1.26.12)\n",
      "Requirement already satisfied: trio~=0.17 in /home/vishnujayan/.local/lib/python3.10/site-packages (from selenium) (0.22.0)\n",
      "Requirement already satisfied: outcome in /home/vishnujayan/.local/lib/python3.10/site-packages (from trio~=0.17->selenium) (1.2.0)\n",
      "Requirement already satisfied: sniffio in /home/vishnujayan/.local/lib/python3.10/site-packages (from trio~=0.17->selenium) (1.3.0)\n",
      "Requirement already satisfied: exceptiongroup>=1.0.0rc9 in /home/vishnujayan/.local/lib/python3.10/site-packages (from trio~=0.17->selenium) (1.1.1)\n",
      "Requirement already satisfied: idna in /usr/lib/python3.10/site-packages (from trio~=0.17->selenium) (3.3)\n",
      "Requirement already satisfied: attrs>=19.2.0 in /usr/lib/python3.10/site-packages (from trio~=0.17->selenium) (21.4.0)\n",
      "Requirement already satisfied: sortedcontainers in /usr/lib/python3.10/site-packages (from trio~=0.17->selenium) (2.4.0)\n",
      "Requirement already satisfied: async-generator>=1.9 in /usr/lib/python3.10/site-packages (from trio~=0.17->selenium) (1.10)\n",
      "Requirement already satisfied: wsproto>=0.14 in /home/vishnujayan/.local/lib/python3.10/site-packages (from trio-websocket~=0.9->selenium) (1.2.0)\n",
      "Requirement already satisfied: PySocks!=1.5.7,<2.0,>=1.5.6 in /usr/lib/python3.10/site-packages (from urllib3[socks]~=1.26->selenium) (1.7.1)\n",
      "Requirement already satisfied: h11<1,>=0.9.0 in /home/vishnujayan/.local/lib/python3.10/site-packages (from wsproto>=0.14->trio-websocket~=0.9->selenium) (0.14.0)\n"
     ]
    }
   ],
   "source": [
    "!pip install selenium"
   ]
  },
  {
   "cell_type": "code",
   "execution_count": 48,
   "metadata": {},
   "outputs": [],
   "source": [
    "from time import sleep, time_ns\n",
    "\n",
    "from selenium import webdriver\n",
    "from selenium.webdriver.common.by import By\n",
    "from selenium.webdriver.support.ui import Select\n",
    "from selenium.webdriver.support.wait import WebDriverWait\n",
    "from selenium.webdriver.support import expected_conditions as EC\n",
    "from selenium.common.exceptions import NoSuchElementException\n",
    "\n",
    "import pandas as pd\n"
   ]
  },
  {
   "cell_type": "code",
   "execution_count": 29,
   "metadata": {},
   "outputs": [
    {
     "name": "stdout",
     "output_type": "stream",
     "text": [
      "8\n",
      "[{'sl_no': '1', 'village': 'अकोला', 'survey_account_number': '4069', 'peak_monitoring_area': '5956.97', 'permanent_area': '0.00', 'current_area': '29.76', 'total_area': '5986.73'}, {'sl_no': '2', 'village': 'अमरावती', 'survey_account_number': '3616', 'peak_monitoring_area': '5386.93', 'permanent_area': '0.00', 'current_area': '14.59', 'total_area': '5401.52'}, {'sl_no': '3', 'village': 'बुलडाणा', 'survey_account_number': '9050', 'peak_monitoring_area': '12503.17', 'permanent_area': '0.00', 'current_area': '35.94', 'total_area': '12539.11'}, {'sl_no': '4', 'village': 'यवतमाळ', 'survey_account_number': '3968', 'peak_monitoring_area': '6788.61', 'permanent_area': '0.00', 'current_area': '47.67', 'total_area': '6836.28'}, {'sl_no': '5', 'village': 'वाशिम', 'survey_account_number': '1364', 'peak_monitoring_area': '2125.23', 'permanent_area': '0.00', 'current_area': '16.05', 'total_area': '2141.29'}]\n"
     ]
    }
   ],
   "source": [
    "\"\"\"\n",
    "The code below for chrome browser in linux.\n",
    "path = \"/usr/bin/chromedriver\"\n",
    "option = webdriver.ChromeOptions()\n",
    "browser = webdriver.Chrome(service=path, options=option)\n",
    "\"\"\"\n",
    "url = \"http://115.124.110.196:8080/epeek/\"\n",
    "browser = webdriver.Firefox()\n",
    "browser.get(url)\n",
    "browser.implicitly_wait(2) #wait for two second to load the website fully\n",
    "\n",
    "#Select the value from the season dropdown\n",
    "season_drop = Select(browser.find_element(By.ID, 'seasonOpt'))\n",
    "season_drop.select_by_value('उन्हाळी')\n",
    "sleep(1)\n",
    "\n",
    "#Select the value from the division dropdown\n",
    "div_drop = Select(browser.find_element(By.ID, 'divOpt'))\n",
    "div_drop.select_by_value('amravati')\n",
    "sleep(1)\n",
    "\n",
    "#Select the value from the district dropdown\n",
    "dist_drop = Select(browser.find_element(By.ID, 'distOpt'))\n",
    "dist_drop.select_by_value('-')\n",
    "sleep(1)\n",
    "\n",
    "#Select the values from the village dropdown\n",
    "village_drop = Select(browser.find_element(By.ID, 'villOpt'))\n",
    "village_drop.select_by_value('-')\n",
    "\n",
    "#Select button\n",
    "button = browser.find_element(By.XPATH, '/html/body/div/div[1]/div[2]/table/tbody/tr[11]/td/button')\n",
    "button.click()\n",
    "sleep(20)\n",
    "\n",
    "object_content = browser.find_element(By.TAG_NAME, 'object')\n",
    "browser.switch_to.frame(object_content)\n",
    "\n",
    "rows = len(browser.find_elements(By.CSS_SELECTOR, 'tr'))\n",
    "print(rows)\n",
    "row = 2\n",
    "data_list = []\n",
    "while(row<rows-1):\n",
    "    data = {}\n",
    "    try:\n",
    "        data['sl_no'] = browser.find_element(By.XPATH,f'//*[@id=\"tbl_exporttable_to_xls\"]/tbody/tr[{row}]/td[1]').text\n",
    "        data['village'] = browser.find_element(By.XPATH,f'//*[@id=\"tbl_exporttable_to_xls\"]/tbody/tr[{row}]/td[2]').text\n",
    "        data['survey_account_number'] = browser.find_element(By.XPATH,f'//*[@id=\"tbl_exporttable_to_xls\"]/tbody/tr[{row}]/td[3]').text\n",
    "        data['peak_monitoring_area'] = browser.find_element(By.XPATH,f'//*[@id=\"tbl_exporttable_to_xls\"]/tbody/tr[{row}]/td[4]').text\n",
    "        data['permanent_area'] = browser.find_element(By.XPATH,f'//*[@id=\"tbl_exporttable_to_xls\"]/tbody/tr[{row}]/td[5]').text\n",
    "        data['current_area'] = browser.find_element(By.XPATH,f'//*[@id=\"tbl_exporttable_to_xls\"]/tbody/tr[{row}]/td[6]').text\n",
    "        data['total_area'] = browser.find_element(By.XPATH,f'//*[@id=\"tbl_exporttable_to_xls\"]/tbody/tr[{row}]/td[7]').text\n",
    "        \n",
    "        data_list.append(data)\n",
    "        row += 1\n",
    "\n",
    "    except NoSuchElementException:\n",
    "        break\n",
    "\n",
    "print(data_list)\n",
    "\n",
    "data_set = pd.DataFrame(data_list)\n",
    "data_set.to_csv(f'data/data_{time_ns()}.csv')\n",
    "\n",
    "\n",
    "browser.close()\n",
    "\n"
   ]
  },
  {
   "cell_type": "code",
   "execution_count": 3,
   "metadata": {},
   "outputs": [
    {
     "name": "stdout",
     "output_type": "stream",
     "text": [
      "Defaulting to user installation because normal site-packages is not writeable\n",
      "Requirement already satisfied: beautifulsoup4 in /usr/lib/python3.10/site-packages (4.11.2)\n",
      "Requirement already satisfied: soupsieve>1.2 in /usr/lib/python3.10/site-packages (from beautifulsoup4) (2.3.1)\n"
     ]
    }
   ],
   "source": [
    "!pip install beautifulsoup4"
   ]
  },
  {
   "cell_type": "code",
   "execution_count": 5,
   "metadata": {},
   "outputs": [],
   "source": [
    "#Imports required packages\n",
    "import requests\n",
    "from bs4 import BeautifulSoup as bs"
   ]
  },
  {
   "cell_type": "code",
   "execution_count": 15,
   "metadata": {},
   "outputs": [
    {
     "name": "stdout",
     "output_type": "stream",
     "text": [
      "<Response [200]>\n"
     ]
    }
   ],
   "source": [
    "URL = \"http://115.124.110.196:8080/epeek/rptViewDist.jsp?ccode=-&blk=-&dist=-&div=amravati&season=खरीप&divName=अमरावती&distName=सर्व&blkName=सर्व&ccodeName=सर्व&seasonName=खरीप\"\n",
    "page = requests.get(URL)\n",
    "print(page)\n",
    "# html_content = bs(page.content, \"html.parser\")\n"
   ]
  },
  {
   "cell_type": "code",
   "execution_count": 18,
   "metadata": {},
   "outputs": [],
   "source": [
    "html_content = bs(page.content, \"html.parser\")"
   ]
  },
  {
   "cell_type": "code",
   "execution_count": 21,
   "metadata": {},
   "outputs": [
    {
     "data": {
      "text/plain": [
       "\n",
       "<script src=\"js/exportExcel.js\" type=\"text/javascript\"></script>\n",
       "<style>\n",
       "    td{\n",
       "        padding: 5px 20px 5px 20px;\n",
       "    }\n",
       "    tr:nth-child(odd)\n",
       "    {\n",
       "        background: #e6fdf7;\n",
       "    }\n",
       "    \n",
       "    tr:nth-child(even)\n",
       "    {\n",
       "        background: #fff;\n",
       "    }\n",
       "</style>\n",
       "<table border=\"1\" id=\"tbl_exporttable_to_xls\" style=\"border-collapse:collapse; color: #000;margin: 0 auto; margin-top:50px; font-weight:bold; font-family: helvetica;\">\n",
       "<tr style=\"text-align: center;background-color: #b1d7b7;\">\n",
       "<td style=\"padding: 5px;\">अ.क्र.</td>\n",
       "<td>जिल्हा</td>\n",
       "<td>पीक पाहणी खातेदार संख्या</td>\n",
       "<td>पीक पाहणी क्षेत्र (हे.)</td>\n",
       "<td>कायम पड क्षेत्र (हे.)</td>\n",
       "<td>चालू पड क्षेत्र (हे.)</td>\n",
       "<td>एकूण क्षेत्र (हे.)</td>\n",
       "</tr>\n",
       "<tr>\n",
       "<td style=\"text-align: right;\">1</td>\n",
       "<td>अकोला</td>\n",
       "<td style=\"text-align: right;\">126520</td>\n",
       "<td style=\"text-align: right;\">193468.64</td>\n",
       "<td style=\"text-align: right;\">0.00</td>\n",
       "<td style=\"text-align: right;\">1712.91</td>\n",
       "<td style=\"text-align: right;\">195181.55</td>\n",
       "</tr>\n",
       "<tr>\n",
       "<td style=\"text-align: right;\">2</td>\n",
       "<td>अमरावती</td>\n",
       "<td style=\"text-align: right;\">228205</td>\n",
       "<td style=\"text-align: right;\">350231.63</td>\n",
       "<td style=\"text-align: right;\">0.00</td>\n",
       "<td style=\"text-align: right;\">4609.60</td>\n",
       "<td style=\"text-align: right;\">354841.22</td>\n",
       "</tr>\n",
       "<tr>\n",
       "<td style=\"text-align: right;\">3</td>\n",
       "<td>बुलडाणा</td>\n",
       "<td style=\"text-align: right;\">232168</td>\n",
       "<td style=\"text-align: right;\">331927.81</td>\n",
       "<td style=\"text-align: right;\">0.00</td>\n",
       "<td style=\"text-align: right;\">2623.36</td>\n",
       "<td style=\"text-align: right;\">334551.16</td>\n",
       "</tr>\n",
       "<tr>\n",
       "<td style=\"text-align: right;\">4</td>\n",
       "<td>यवतमाळ</td>\n",
       "<td style=\"text-align: right;\">225942</td>\n",
       "<td style=\"text-align: right;\">409134.28</td>\n",
       "<td style=\"text-align: right;\">0.00</td>\n",
       "<td style=\"text-align: right;\">6432.11</td>\n",
       "<td style=\"text-align: right;\">415566.38</td>\n",
       "</tr>\n",
       "<tr>\n",
       "<td style=\"text-align: right;\">5</td>\n",
       "<td>वाशिम</td>\n",
       "<td style=\"text-align: right;\">134089</td>\n",
       "<td style=\"text-align: right;\">216559.00</td>\n",
       "<td style=\"text-align: right;\">0.00</td>\n",
       "<td style=\"text-align: right;\">1834.24</td>\n",
       "<td style=\"text-align: right;\">218393.23</td>\n",
       "</tr>\n",
       "<tr style=\"background-color: #b1d7b7;\">\n",
       "<td colspan=\"2\" style=\"text-align: right;padding: 5px;\">विभागातील एकूण</td>\n",
       "<td style=\"text-align: right;\">946924</td>\n",
       "<td style=\"text-align: right;\">1501321.38</td>\n",
       "<td style=\"text-align: right;\">0.00</td>\n",
       "<td style=\"text-align: right;\">17212.21</td>\n",
       "<td style=\"text-align: right;\">1518533.50</td>\n",
       "</tr>\n",
       "<tr>\n",
       "<th colspan=\"7\" style=\"font-size: 12px;color: red;text-align: left;padding: 5px;\">टीप : सदरची माहिती हि ई-पीक पाहणी मोबाईल अँप द्वारे नोंदविण्यात आलेली आहे.</th>\n",
       "</tr>\n",
       "<caption id=\"captionTxt\" style=\"border: thin solid #666;font-size: 14px;padding: 6px;\">दिनांक : 01-08-2022 पासून 22-10-2022 पर्यंत <label style=\"color: red; float: right;\">हंगाम : खरीप     <button onclick=\"ExportToExcel('xlsx')\" style=\"background:green; color:#fff; padding:5px;\">Export to Excel</button></label></caption>\n",
       "</table>\n",
       "<script>\n",
       "                function ExportToExcel(type, fn, dl) {\n",
       "                    var elt = document.getElementById('tbl_exporttable_to_xls');\n",
       "                    var wb = XLSX.utils.table_to_book(elt, { sheet: \"sheet1\" });\n",
       "                    return dl ?\n",
       "                        XLSX.write(wb, { bookType: type, bookSST: true, type: 'base64' }) :\n",
       "                        XLSX.writeFile(wb, fn || ('विभाग - अमरावती.' + (type || 'xlsx')));\n",
       "                }\n",
       "    </script>"
      ]
     },
     "execution_count": 21,
     "metadata": {},
     "output_type": "execute_result"
    }
   ],
   "source": [
    "html_content"
   ]
  },
  {
   "cell_type": "code",
   "execution_count": 46,
   "metadata": {},
   "outputs": [
    {
     "name": "stdout",
     "output_type": "stream",
     "text": [
      "अ.क्र.\n",
      "8\n",
      "[{'sl_no': '1', 'village': 'अकोला', 'survey_account_number': '126520', 'peak_monitoring_area': '193468.64', 'permanent_area': '0.00', 'current_area': '1712.91', 'total_area': '195181.55'}, {'sl_no': '2', 'village': 'अमरावती', 'survey_account_number': '228205', 'peak_monitoring_area': '350231.63', 'permanent_area': '0.00', 'current_area': '4609.60', 'total_area': '354841.22'}, {'sl_no': '3', 'village': 'बुलडाणा', 'survey_account_number': '232168', 'peak_monitoring_area': '331927.81', 'permanent_area': '0.00', 'current_area': '2623.36', 'total_area': '334551.16'}, {'sl_no': '4', 'village': 'यवतमाळ', 'survey_account_number': '225942', 'peak_monitoring_area': '409134.28', 'permanent_area': '0.00', 'current_area': '6432.11', 'total_area': '415566.38'}, {'sl_no': '5', 'village': 'वाशिम', 'survey_account_number': '134089', 'peak_monitoring_area': '216559.00', 'permanent_area': '0.00', 'current_area': '1834.24', 'total_area': '218393.23'}]\n"
     ]
    }
   ],
   "source": [
    "html_result_table =  html_content.find('table')\n",
    "rows = html_result_table.find_all('tr')\n",
    "print(rows[0].find_all('td')[0].text)\n",
    "print(len(rows))\n",
    "\n",
    "row = 1\n",
    "data_list = []\n",
    "while(row < len(rows)-2):\n",
    "    data = {}\n",
    "    data['sl_no'] = rows[row].find_all('td')[0].text.strip()\n",
    "    data['village'] = rows[row].find_all('td')[1].text.strip()\n",
    "    data['survey_account_number'] = rows[row].find_all('td')[2].text.strip()\n",
    "    data['peak_monitoring_area'] = rows[row].find_all('td')[3].text.strip()\n",
    "    data['permanent_area'] = rows[row].find_all('td')[4].text.strip()\n",
    "    data['current_area'] = rows[row].find_all('td')[5].text.strip()\n",
    "    data['total_area'] = rows[row].find_all('td')[6].text.strip()\n",
    "    row +=1\n",
    "    data_list.append(data)\n",
    "\n",
    "print(data_list)"
   ]
  },
  {
   "cell_type": "code",
   "execution_count": 49,
   "metadata": {},
   "outputs": [
    {
     "data": {
      "text/html": [
       "<div>\n",
       "<style scoped>\n",
       "    .dataframe tbody tr th:only-of-type {\n",
       "        vertical-align: middle;\n",
       "    }\n",
       "\n",
       "    .dataframe tbody tr th {\n",
       "        vertical-align: top;\n",
       "    }\n",
       "\n",
       "    .dataframe thead th {\n",
       "        text-align: right;\n",
       "    }\n",
       "</style>\n",
       "<table border=\"1\" class=\"dataframe\">\n",
       "  <thead>\n",
       "    <tr style=\"text-align: right;\">\n",
       "      <th></th>\n",
       "      <th>sl_no</th>\n",
       "      <th>village</th>\n",
       "      <th>survey_account_number</th>\n",
       "      <th>peak_monitoring_area</th>\n",
       "      <th>permanent_area</th>\n",
       "      <th>current_area</th>\n",
       "      <th>total_area</th>\n",
       "    </tr>\n",
       "  </thead>\n",
       "  <tbody>\n",
       "    <tr>\n",
       "      <th>0</th>\n",
       "      <td>1</td>\n",
       "      <td>अकोला</td>\n",
       "      <td>126520</td>\n",
       "      <td>193468.64</td>\n",
       "      <td>0.00</td>\n",
       "      <td>1712.91</td>\n",
       "      <td>195181.55</td>\n",
       "    </tr>\n",
       "    <tr>\n",
       "      <th>1</th>\n",
       "      <td>2</td>\n",
       "      <td>अमरावती</td>\n",
       "      <td>228205</td>\n",
       "      <td>350231.63</td>\n",
       "      <td>0.00</td>\n",
       "      <td>4609.60</td>\n",
       "      <td>354841.22</td>\n",
       "    </tr>\n",
       "    <tr>\n",
       "      <th>2</th>\n",
       "      <td>3</td>\n",
       "      <td>बुलडाणा</td>\n",
       "      <td>232168</td>\n",
       "      <td>331927.81</td>\n",
       "      <td>0.00</td>\n",
       "      <td>2623.36</td>\n",
       "      <td>334551.16</td>\n",
       "    </tr>\n",
       "    <tr>\n",
       "      <th>3</th>\n",
       "      <td>4</td>\n",
       "      <td>यवतमाळ</td>\n",
       "      <td>225942</td>\n",
       "      <td>409134.28</td>\n",
       "      <td>0.00</td>\n",
       "      <td>6432.11</td>\n",
       "      <td>415566.38</td>\n",
       "    </tr>\n",
       "    <tr>\n",
       "      <th>4</th>\n",
       "      <td>5</td>\n",
       "      <td>वाशिम</td>\n",
       "      <td>134089</td>\n",
       "      <td>216559.00</td>\n",
       "      <td>0.00</td>\n",
       "      <td>1834.24</td>\n",
       "      <td>218393.23</td>\n",
       "    </tr>\n",
       "  </tbody>\n",
       "</table>\n",
       "</div>"
      ],
      "text/plain": [
       "  sl_no  village survey_account_number peak_monitoring_area permanent_area  \\\n",
       "0     1    अकोला                126520            193468.64           0.00   \n",
       "1     2  अमरावती                228205            350231.63           0.00   \n",
       "2     3  बुलडाणा                232168            331927.81           0.00   \n",
       "3     4   यवतमाळ                225942            409134.28           0.00   \n",
       "4     5    वाशिम                134089            216559.00           0.00   \n",
       "\n",
       "  current_area total_area  \n",
       "0      1712.91  195181.55  \n",
       "1      4609.60  354841.22  \n",
       "2      2623.36  334551.16  \n",
       "3      6432.11  415566.38  \n",
       "4      1834.24  218393.23  "
      ]
     },
     "execution_count": 49,
     "metadata": {},
     "output_type": "execute_result"
    }
   ],
   "source": [
    "data_set = pd.DataFrame(data_list)\n",
    "data_set"
   ]
  }
 ],
 "metadata": {
  "kernelspec": {
   "display_name": "Python 3.10.8 64-bit",
   "language": "python",
   "name": "python3"
  },
  "language_info": {
   "codemirror_mode": {
    "name": "ipython",
    "version": 3
   },
   "file_extension": ".py",
   "mimetype": "text/x-python",
   "name": "python",
   "nbconvert_exporter": "python",
   "pygments_lexer": "ipython3",
   "version": "3.10.10"
  },
  "orig_nbformat": 4,
  "vscode": {
   "interpreter": {
    "hash": "e7370f93d1d0cde622a1f8e1c04877d8463912d04d973331ad4851f04de6915a"
   }
  }
 },
 "nbformat": 4,
 "nbformat_minor": 2
}
