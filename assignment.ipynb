{
 "cells": [
  {
   "cell_type": "code",
   "execution_count": 37,
   "metadata": {},
   "outputs": [
    {
     "name": "stdout",
     "output_type": "stream",
     "text": [
      "Defaulting to user installation because normal site-packages is not writeable\n",
      "Requirement already satisfied: selenium in /home/vishnujayan/.local/lib/python3.10/site-packages (4.8.3)\n",
      "Requirement already satisfied: certifi>=2021.10.8 in /home/vishnujayan/.local/lib/python3.10/site-packages (from selenium) (2022.12.7)\n",
      "Requirement already satisfied: trio-websocket~=0.9 in /home/vishnujayan/.local/lib/python3.10/site-packages (from selenium) (0.10.2)\n",
      "Requirement already satisfied: urllib3[socks]~=1.26 in /usr/lib/python3.10/site-packages (from selenium) (1.26.12)\n",
      "Requirement already satisfied: trio~=0.17 in /home/vishnujayan/.local/lib/python3.10/site-packages (from selenium) (0.22.0)\n",
      "Requirement already satisfied: outcome in /home/vishnujayan/.local/lib/python3.10/site-packages (from trio~=0.17->selenium) (1.2.0)\n",
      "Requirement already satisfied: sniffio in /home/vishnujayan/.local/lib/python3.10/site-packages (from trio~=0.17->selenium) (1.3.0)\n",
      "Requirement already satisfied: exceptiongroup>=1.0.0rc9 in /home/vishnujayan/.local/lib/python3.10/site-packages (from trio~=0.17->selenium) (1.1.1)\n",
      "Requirement already satisfied: idna in /usr/lib/python3.10/site-packages (from trio~=0.17->selenium) (3.3)\n",
      "Requirement already satisfied: attrs>=19.2.0 in /usr/lib/python3.10/site-packages (from trio~=0.17->selenium) (21.4.0)\n",
      "Requirement already satisfied: sortedcontainers in /usr/lib/python3.10/site-packages (from trio~=0.17->selenium) (2.4.0)\n",
      "Requirement already satisfied: async-generator>=1.9 in /usr/lib/python3.10/site-packages (from trio~=0.17->selenium) (1.10)\n",
      "Requirement already satisfied: wsproto>=0.14 in /home/vishnujayan/.local/lib/python3.10/site-packages (from trio-websocket~=0.9->selenium) (1.2.0)\n",
      "Requirement already satisfied: PySocks!=1.5.7,<2.0,>=1.5.6 in /usr/lib/python3.10/site-packages (from urllib3[socks]~=1.26->selenium) (1.7.1)\n",
      "Requirement already satisfied: h11<1,>=0.9.0 in /home/vishnujayan/.local/lib/python3.10/site-packages (from wsproto>=0.14->trio-websocket~=0.9->selenium) (0.14.0)\n"
     ]
    }
   ],
   "source": [
    "!pip install selenium"
   ]
  },
  {
   "cell_type": "code",
   "execution_count": 90,
   "metadata": {},
   "outputs": [],
   "source": [
    "from time import sleep, time_ns\n",
    "\n",
    "from selenium import webdriver\n",
    "from selenium.webdriver.common.by import By\n",
    "from selenium.webdriver.support.ui import Select\n",
    "from selenium.webdriver.support.wait import WebDriverWait\n",
    "from selenium.webdriver.support import expected_conditions as EC\n",
    "from selenium.common.exceptions import NoSuchElementException\n",
    "\n",
    "import pandas as pd\n"
   ]
  },
  {
   "cell_type": "code",
   "execution_count": 29,
   "metadata": {},
   "outputs": [
    {
     "name": "stdout",
     "output_type": "stream",
     "text": [
      "8\n",
      "[{'sl_no': '1', 'village': 'अकोला', 'survey_account_number': '4069', 'peak_monitoring_area': '5956.97', 'permanent_area': '0.00', 'current_area': '29.76', 'total_area': '5986.73'}, {'sl_no': '2', 'village': 'अमरावती', 'survey_account_number': '3616', 'peak_monitoring_area': '5386.93', 'permanent_area': '0.00', 'current_area': '14.59', 'total_area': '5401.52'}, {'sl_no': '3', 'village': 'बुलडाणा', 'survey_account_number': '9050', 'peak_monitoring_area': '12503.17', 'permanent_area': '0.00', 'current_area': '35.94', 'total_area': '12539.11'}, {'sl_no': '4', 'village': 'यवतमाळ', 'survey_account_number': '3968', 'peak_monitoring_area': '6788.61', 'permanent_area': '0.00', 'current_area': '47.67', 'total_area': '6836.28'}, {'sl_no': '5', 'village': 'वाशिम', 'survey_account_number': '1364', 'peak_monitoring_area': '2125.23', 'permanent_area': '0.00', 'current_area': '16.05', 'total_area': '2141.29'}]\n"
     ]
    }
   ],
   "source": [
    "\"\"\"\n",
    "The code below for chrome browser in linux.\n",
    "path = \"/usr/bin/chromedriver\"\n",
    "option = webdriver.ChromeOptions()\n",
    "browser = webdriver.Chrome(service=path, options=option)\n",
    "\"\"\"\n",
    "url = \"http://115.124.110.196:8080/epeek/\"\n",
    "browser = webdriver.Firefox()\n",
    "browser.get(url)\n",
    "browser.implicitly_wait(2) #wait for two second to load the website fully\n",
    "\n",
    "#Select the value from the season dropdown\n",
    "season_drop = Select(browser.find_element(By.ID, 'seasonOpt'))\n",
    "season_drop.select_by_value('उन्हाळी')\n",
    "sleep(1)\n",
    "\n",
    "#Select the value from the division dropdown\n",
    "div_drop = Select(browser.find_element(By.ID, 'divOpt'))\n",
    "div_drop.select_by_value('amravati')\n",
    "sleep(1)\n",
    "\n",
    "#Select the value from the district dropdown\n",
    "dist_drop = Select(browser.find_element(By.ID, 'distOpt'))\n",
    "dist_drop.select_by_value('-')\n",
    "sleep(1)\n",
    "\n",
    "#Select the values from the village dropdown\n",
    "village_drop = Select(browser.find_element(By.ID, 'villOpt'))\n",
    "village_drop.select_by_value('-')\n",
    "\n",
    "#Select button\n",
    "button = browser.find_element(By.XPATH, '/html/body/div/div[1]/div[2]/table/tbody/tr[11]/td/button')\n",
    "button.click()\n",
    "sleep(20)\n",
    "\n",
    "object_content = browser.find_element(By.TAG_NAME, 'object')\n",
    "browser.switch_to.frame(object_content)\n",
    "\n",
    "rows = len(browser.find_elements(By.CSS_SELECTOR, 'tr'))\n",
    "print(rows)\n",
    "row = 2\n",
    "data_list = []\n",
    "while(row<rows-1):\n",
    "    data = {}\n",
    "    try:\n",
    "        data['sl_no'] = browser.find_element(By.XPATH,f'//*[@id=\"tbl_exporttable_to_xls\"]/tbody/tr[{row}]/td[1]').text\n",
    "        data['village'] = browser.find_element(By.XPATH,f'//*[@id=\"tbl_exporttable_to_xls\"]/tbody/tr[{row}]/td[2]').text\n",
    "        data['survey_account_number'] = browser.find_element(By.XPATH,f'//*[@id=\"tbl_exporttable_to_xls\"]/tbody/tr[{row}]/td[3]').text\n",
    "        data['peak_monitoring_area'] = browser.find_element(By.XPATH,f'//*[@id=\"tbl_exporttable_to_xls\"]/tbody/tr[{row}]/td[4]').text\n",
    "        data['permanent_area'] = browser.find_element(By.XPATH,f'//*[@id=\"tbl_exporttable_to_xls\"]/tbody/tr[{row}]/td[5]').text\n",
    "        data['current_area'] = browser.find_element(By.XPATH,f'//*[@id=\"tbl_exporttable_to_xls\"]/tbody/tr[{row}]/td[6]').text\n",
    "        data['total_area'] = browser.find_element(By.XPATH,f'//*[@id=\"tbl_exporttable_to_xls\"]/tbody/tr[{row}]/td[7]').text\n",
    "        \n",
    "        data_list.append(data)\n",
    "        row += 1\n",
    "\n",
    "    except NoSuchElementException:\n",
    "        break\n",
    "\n",
    "print(data_list)\n",
    "\n",
    "data_set = pd.DataFrame(data_list)\n",
    "data_set.to_csv(f'data/data_{time_ns()}.csv')\n",
    "\n",
    "\n",
    "browser.close()\n",
    "\n"
   ]
  },
  {
   "cell_type": "code",
   "execution_count": 3,
   "metadata": {},
   "outputs": [
    {
     "name": "stdout",
     "output_type": "stream",
     "text": [
      "Defaulting to user installation because normal site-packages is not writeable\n",
      "Requirement already satisfied: beautifulsoup4 in /usr/lib/python3.10/site-packages (4.11.2)\n",
      "Requirement already satisfied: soupsieve>1.2 in /usr/lib/python3.10/site-packages (from beautifulsoup4) (2.3.1)\n"
     ]
    }
   ],
   "source": [
    "!pip install beautifulsoup4"
   ]
  },
  {
   "cell_type": "code",
   "execution_count": 1,
   "metadata": {},
   "outputs": [],
   "source": [
    "#Imports required packages\n",
    "import requests\n",
    "from bs4 import BeautifulSoup as bs\n",
    "import pandas as pd\n",
    "from time import sleep"
   ]
  },
  {
   "cell_type": "code",
   "execution_count": 2,
   "metadata": {},
   "outputs": [],
   "source": [
    "# URL = \"http://115.124.110.196:8080/epeek/rptViewDist.jsp?ccode=-&blk=-&dist=-&div=amravati&season=खरीप&divName=अमरावती&distName=सर्व&blkName=सर्व&ccodeName=सर्व&seasonName=खरीप\"\n",
    "base_url = \"http://115.124.110.196:8080/epeek/\"\n",
    "# ccode\n",
    "village_code = \"272100040267930000\"\n",
    "# blk\n",
    "block_code = \"4\"\n",
    "# dist\n",
    "district_code = \"36\"\n",
    "# div\n",
    "en_division_name = \"kokan\"\n",
    "# season\n",
    "mr_season_name = \"खरीप\"\n",
    "# divName\n",
    "mr_division_name = \"कोंकण\"\n",
    "# distName\n",
    "mr_district_name = \"पालघर\"\n",
    "# blkName\n",
    "mr_block_name = \"जव्हार\"\n",
    "# ccodeName\n",
    "mr_village_name = \"अनंतनगर\"\n",
    "\n",
    "url_params = ''\n",
    "\n",
    "if en_division_name == '-':\n",
    "   url_params =  f\"rptViewDist.jsp?ccode={village_code}&blk={block_code}&dist={district_code}&div={en_division_name}&season={mr_season_name}&divName={mr_division_name}&distName={mr_district_name}&blkName={mr_block_name}&ccodeName={mr_block_name}&seasonName={mr_season_name}\"\n",
    "   pass\n",
    "elif district_code == '-':\n",
    "    pass\n",
    "elif block_code == '-':\n",
    "    pass\n",
    "elif village_code == '-':\n",
    "    pass\n",
    "else:\n",
    "    url_params = f\"rptViewKhateNew.jsp?ccode={village_code}&blk={block_code}&dist={district_code}&div={en_division_name}&season={mr_season_name}&divName={mr_division_name}&distName={mr_district_name}&blkName={mr_block_name}&ccodeName={mr_block_name}&seasonName={mr_season_name}\"\n",
    "page = requests.get(base_url+url_params)\n",
    "# print(page)\n",
    "# html_content = bs(page.content, \"html.parser\")\n"
   ]
  },
  {
   "cell_type": "code",
   "execution_count": 3,
   "metadata": {},
   "outputs": [],
   "source": [
    "html_content = bs(page.content, \"html.parser\")"
   ]
  },
  {
   "cell_type": "code",
   "execution_count": 4,
   "metadata": {},
   "outputs": [
    {
     "name": "stdout",
     "output_type": "stream",
     "text": [
      "<object data=\"rptViewPeekPahani.jsp?ccode=272100040267930000&amp;blk=4&amp;dist=36&amp;div=kokan&amp;season=खरीप\" style=\"width: 100%; height: 425px;margin: 0 auto;color: #fff; font-size: 15px;\"></object>\n",
      "None\n"
     ]
    }
   ],
   "source": [
    "object_content = html_content.find('object')\n",
    "print(object_content)\n",
    "# sub_url = object_content['data']\n",
    "# url = base_url+sub_url\n",
    "# print(url)\n",
    "# page = requests.get(url)\n",
    "# html_content=bs(page.content, \"html.parser\")\n",
    "print(object_content.find('html'))"
   ]
  },
  {
   "cell_type": "code",
   "execution_count": 73,
   "metadata": {},
   "outputs": [
    {
     "ename": "AttributeError",
     "evalue": "'NoneType' object has no attribute 'find_all'",
     "output_type": "error",
     "traceback": [
      "\u001b[0;31m---------------------------------------------------------------------------\u001b[0m",
      "\u001b[0;31mAttributeError\u001b[0m                            Traceback (most recent call last)",
      "\u001b[1;32m/home/vishnujayan/projects/pocra/assignment/assignment.ipynb Cell 9'\u001b[0m in \u001b[0;36m<cell line: 3>\u001b[0;34m()\u001b[0m\n\u001b[1;32m      <a href='vscode-notebook-cell:/home/vishnujayan/projects/pocra/assignment/assignment.ipynb#ch0000008?line=0'>1</a>\u001b[0m html_result_table \u001b[39m=\u001b[39m  html_content\u001b[39m.\u001b[39mfind(\u001b[39m'\u001b[39m\u001b[39mtable\u001b[39m\u001b[39m'\u001b[39m)\n\u001b[0;32m----> <a href='vscode-notebook-cell:/home/vishnujayan/projects/pocra/assignment/assignment.ipynb#ch0000008?line=2'>3</a>\u001b[0m rows \u001b[39m=\u001b[39m html_result_table\u001b[39m.\u001b[39mfind_all(\u001b[39m'\u001b[39m\u001b[39mtr\u001b[39m\u001b[39m'\u001b[39m)\n\u001b[1;32m      <a href='vscode-notebook-cell:/home/vishnujayan/projects/pocra/assignment/assignment.ipynb#ch0000008?line=4'>5</a>\u001b[0m header_row_elements \u001b[39m=\u001b[39m rows[\u001b[39m0\u001b[39m]\u001b[39m.\u001b[39mfind_all(\u001b[39m'\u001b[39m\u001b[39mtd\u001b[39m\u001b[39m'\u001b[39m)\n\u001b[1;32m      <a href='vscode-notebook-cell:/home/vishnujayan/projects/pocra/assignment/assignment.ipynb#ch0000008?line=5'>6</a>\u001b[0m headers \u001b[39m=\u001b[39m []\n",
      "\u001b[0;31mAttributeError\u001b[0m: 'NoneType' object has no attribute 'find_all'"
     ]
    }
   ],
   "source": [
    "html_result_table =  html_content.find('table')\n",
    "\n",
    "rows = html_result_table.find_all('tr')\n",
    "\n",
    "header_row_elements = rows[0].find_all('td')\n",
    "headers = []\n",
    "for col in  header_row_elements:\n",
    "    headers.append(col.text.strip())\n"
   ]
  },
  {
   "cell_type": "code",
   "execution_count": 23,
   "metadata": {},
   "outputs": [
    {
     "name": "stdout",
     "output_type": "stream",
     "text": [
      "[['1', 'अकोला', '126520', '193468.64', '0.00', '1712.91', '195181.55'], ['2', 'अमरावती', '228205', '350231.63', '0.00', '4609.60', '354841.22'], ['3', 'बुलडाणा', '232168', '331927.81', '0.00', '2623.36', '334551.16'], ['4', 'यवतमाळ', '225942', '409134.28', '0.00', '6432.11', '415566.38'], ['5', 'वाशिम', '134089', '216559.00', '0.00', '1834.24', '218393.23']]\n"
     ]
    }
   ],
   "source": [
    "data_list = []\n",
    "for i in range(1, len(rows)-2):\n",
    "    row_elements = rows[i].find_all('td')\n",
    "    data_elements = []\n",
    "    for col in row_elements:\n",
    "        data_elements.append(col.text.strip())\n",
    "    \n",
    "    data_list.append(data_elements)\n",
    "\n",
    "print(data_list)"
   ]
  },
  {
   "cell_type": "code",
   "execution_count": 25,
   "metadata": {},
   "outputs": [
    {
     "data": {
      "text/html": [
       "<div>\n",
       "<style scoped>\n",
       "    .dataframe tbody tr th:only-of-type {\n",
       "        vertical-align: middle;\n",
       "    }\n",
       "\n",
       "    .dataframe tbody tr th {\n",
       "        vertical-align: top;\n",
       "    }\n",
       "\n",
       "    .dataframe thead th {\n",
       "        text-align: right;\n",
       "    }\n",
       "</style>\n",
       "<table border=\"1\" class=\"dataframe\">\n",
       "  <thead>\n",
       "    <tr style=\"text-align: right;\">\n",
       "      <th></th>\n",
       "      <th>अ.क्र.</th>\n",
       "      <th>जिल्हा</th>\n",
       "      <th>पीक पाहणी खातेदार संख्या</th>\n",
       "      <th>पीक पाहणी क्षेत्र (हे.)</th>\n",
       "      <th>कायम पड क्षेत्र (हे.)</th>\n",
       "      <th>चालू पड क्षेत्र (हे.)</th>\n",
       "      <th>एकूण क्षेत्र (हे.)</th>\n",
       "    </tr>\n",
       "  </thead>\n",
       "  <tbody>\n",
       "    <tr>\n",
       "      <th>0</th>\n",
       "      <td>1</td>\n",
       "      <td>अकोला</td>\n",
       "      <td>126520</td>\n",
       "      <td>193468.64</td>\n",
       "      <td>0.00</td>\n",
       "      <td>1712.91</td>\n",
       "      <td>195181.55</td>\n",
       "    </tr>\n",
       "    <tr>\n",
       "      <th>1</th>\n",
       "      <td>2</td>\n",
       "      <td>अमरावती</td>\n",
       "      <td>228205</td>\n",
       "      <td>350231.63</td>\n",
       "      <td>0.00</td>\n",
       "      <td>4609.60</td>\n",
       "      <td>354841.22</td>\n",
       "    </tr>\n",
       "    <tr>\n",
       "      <th>2</th>\n",
       "      <td>3</td>\n",
       "      <td>बुलडाणा</td>\n",
       "      <td>232168</td>\n",
       "      <td>331927.81</td>\n",
       "      <td>0.00</td>\n",
       "      <td>2623.36</td>\n",
       "      <td>334551.16</td>\n",
       "    </tr>\n",
       "    <tr>\n",
       "      <th>3</th>\n",
       "      <td>4</td>\n",
       "      <td>यवतमाळ</td>\n",
       "      <td>225942</td>\n",
       "      <td>409134.28</td>\n",
       "      <td>0.00</td>\n",
       "      <td>6432.11</td>\n",
       "      <td>415566.38</td>\n",
       "    </tr>\n",
       "    <tr>\n",
       "      <th>4</th>\n",
       "      <td>5</td>\n",
       "      <td>वाशिम</td>\n",
       "      <td>134089</td>\n",
       "      <td>216559.00</td>\n",
       "      <td>0.00</td>\n",
       "      <td>1834.24</td>\n",
       "      <td>218393.23</td>\n",
       "    </tr>\n",
       "  </tbody>\n",
       "</table>\n",
       "</div>"
      ],
      "text/plain": [
       "  अ.क्र.   जिल्हा पीक पाहणी खातेदार संख्या पीक पाहणी क्षेत्र (हे.)  \\\n",
       "0      1    अकोला                   126520               193468.64   \n",
       "1      2  अमरावती                   228205               350231.63   \n",
       "2      3  बुलडाणा                   232168               331927.81   \n",
       "3      4   यवतमाळ                   225942               409134.28   \n",
       "4      5    वाशिम                   134089               216559.00   \n",
       "\n",
       "  कायम पड क्षेत्र (हे.) चालू पड क्षेत्र (हे.) एकूण क्षेत्र (हे.)  \n",
       "0                  0.00               1712.91          195181.55  \n",
       "1                  0.00               4609.60          354841.22  \n",
       "2                  0.00               2623.36          334551.16  \n",
       "3                  0.00               6432.11          415566.38  \n",
       "4                  0.00               1834.24          218393.23  "
      ]
     },
     "execution_count": 25,
     "metadata": {},
     "output_type": "execute_result"
    }
   ],
   "source": [
    "data_set = pd.DataFrame(data_list, columns=headers)\n",
    "data_set"
   ]
  },
  {
   "cell_type": "code",
   "execution_count": 26,
   "metadata": {},
   "outputs": [],
   "source": [
    "a = b = 2"
   ]
  },
  {
   "cell_type": "code",
   "execution_count": 27,
   "metadata": {},
   "outputs": [
    {
     "data": {
      "text/plain": [
       "(2, 2)"
      ]
     },
     "execution_count": 27,
     "metadata": {},
     "output_type": "execute_result"
    }
   ],
   "source": [
    "a, b"
   ]
  },
  {
   "cell_type": "code",
   "execution_count": 91,
   "metadata": {},
   "outputs": [],
   "source": [
    "from time import time_ns\n",
    "from selenium import webdriver\n",
    "from selenium.webdriver.common.by import By\n",
    "from bs4 import BeautifulSoup as bs\n",
    "import pandas as pd\n"
   ]
  },
  {
   "cell_type": "code",
   "execution_count": 124,
   "metadata": {},
   "outputs": [],
   "source": [
    "base_url = \"http://115.124.110.196:8080/epeek/\"\n",
    "# ccode\n",
    "village_code = \"272100040267930000\"\n",
    "# blk\n",
    "block_code = \"4\"\n",
    "# dist\n",
    "district_code = \"36\"\n",
    "# div\n",
    "en_division_name = \"kokan\"\n",
    "# season\n",
    "mr_season_name = \"खरीप\"\n",
    "# divName\n",
    "mr_division_name = \"कोंकण\"\n",
    "# distName\n",
    "mr_district_name = \"पालघर\"\n",
    "# blkName\n",
    "mr_block_name = \"जव्हार\"\n",
    "# ccodeName\n",
    "mr_village_name = \"अनंतनगर\"\n",
    "\n",
    "url_params = ''\n",
    "\n",
    "if en_division_name == '-':\n",
    "   url_params =  f\"rptViewDiv.jsp?div=pune&season={mr_season_name}&divName={mr_division_name}&distName={mr_district_name}&blkName={mr_block_name}&ccodeName={mr_village_name}&seasonName={mr_season_name}\"\n",
    "elif district_code == '-':\n",
    "    url_params = f\"rptViewDist.jsp?ccode={village_code}&blk={block_code}&dist={district_code}&div={en_division_name}&season={mr_season_name}&divName={mr_division_name}&distName={mr_district_name}&blkName={mr_block_name}&ccodeName={mr_village_name}&seasonName={mr_season_name}\"\n",
    "elif block_code == '-':\n",
    "    url_params = f\"rptViewBlk.jsp?ccode={village_code}&blk={block_code}&dist={district_code}&div={en_division_name}&season={mr_season_name}&divName={mr_division_name}&distName={mr_district_name}&blkName={mr_block_name}&ccodeName={mr_village_name}&seasonName={mr_season_name}\"\n",
    "elif village_code == '-':\n",
    "    url_params = f\"rptViewVill.jsp?ccode={village_code}&blk={block_code}&dist={district_code}&div={en_division_name}&season={mr_season_name}&divName={mr_division_name}&distName={mr_district_name}&blkName={mr_block_name}&ccodeName={mr_village_name}&seasonName={mr_season_name}\"\n",
    "else:\n",
    "    url_params = f\"rptViewKhateNew.jsp?ccode={village_code}&blk={block_code}&dist={district_code}&div={en_division_name}&season={mr_season_name}&divName={mr_division_name}&distName={mr_district_name}&blkName={mr_block_name}&ccodeName={mr_block_name}&seasonName={mr_season_name}\"\n",
    "\n",
    "url = base_url + url_params"
   ]
  },
  {
   "cell_type": "code",
   "execution_count": 125,
   "metadata": {},
   "outputs": [
    {
     "name": "stdout",
     "output_type": "stream",
     "text": [
      "http://115.124.110.196:8080/epeek/rptViewKhateNew.jsp?ccode=272100040267930000&blk=4&dist=36&div=kokan&season=खरीप&divName=कोंकण&distName=पालघर&blkName=जव्हार&ccodeName=जव्हार&seasonName=खरीप\n"
     ]
    }
   ],
   "source": [
    "# url = \"http://115.124.110.196:8080/epeek/rptViewDist.jsp?ccode=-&blk=-&dist=-&div=amravati&season=खरीप&divName=अमरावती&distName=सर्व&blkName=सर्व&ccodeName=सर्व&seasonName=खरीप\"\n",
    "print(url)"
   ]
  },
  {
   "cell_type": "code",
   "execution_count": 126,
   "metadata": {},
   "outputs": [],
   "source": [
    "browser = webdriver.Firefox()\n",
    "browser.get(url)\n",
    "try:\n",
    "    object_content = browser.find_element(By.TAG_NAME, 'object')\n",
    "    browser.switch_to.frame(object_content)\n",
    "except: \n",
    "    pass\n",
    "\n",
    "html_content = bs(browser.page_source, \"html.parser\")\n",
    "browser.close()\n",
    "\n",
    "html_result_table =  html_content.find('table')\n",
    "\n",
    "rows = html_result_table.find_all('tr')\n",
    "\n",
    "header_row_elements = rows[0].find_all('td')\n",
    "headers = []\n",
    "for col in  header_row_elements:\n",
    "    headers.append(col.text.strip())\n",
    "\n"
   ]
  },
  {
   "cell_type": "code",
   "execution_count": 127,
   "metadata": {},
   "outputs": [],
   "source": [
    "data_list = []\n",
    "for i in range(1, len(rows)-2):\n",
    "    row_elements = rows[i].find_all('td')\n",
    "    data_elements = []\n",
    "    for col in row_elements:\n",
    "        data_elements.append(col.text.strip())\n",
    "    \n",
    "    data_list.append(data_elements)"
   ]
  },
  {
   "cell_type": "code",
   "execution_count": 128,
   "metadata": {},
   "outputs": [],
   "source": [
    "data_set = pd.DataFrame(data_list, columns=headers)\n",
    "data_set.to_csv(f\"data/data_{time_ns()}.csv\")"
   ]
  },
  {
   "cell_type": "code",
   "execution_count": null,
   "metadata": {},
   "outputs": [],
   "source": []
  }
 ],
 "metadata": {
  "kernelspec": {
   "display_name": "Python 3.10.8 64-bit",
   "language": "python",
   "name": "python3"
  },
  "language_info": {
   "codemirror_mode": {
    "name": "ipython",
    "version": 3
   },
   "file_extension": ".py",
   "mimetype": "text/x-python",
   "name": "python",
   "nbconvert_exporter": "python",
   "pygments_lexer": "ipython3",
   "version": "3.10.10"
  },
  "orig_nbformat": 4,
  "vscode": {
   "interpreter": {
    "hash": "e7370f93d1d0cde622a1f8e1c04877d8463912d04d973331ad4851f04de6915a"
   }
  }
 },
 "nbformat": 4,
 "nbformat_minor": 2
}
