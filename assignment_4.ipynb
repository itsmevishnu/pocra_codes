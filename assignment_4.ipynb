{
 "cells": [
  {
   "cell_type": "code",
   "execution_count": 1,
   "metadata": {},
   "outputs": [],
   "source": [
    "#database operations"
   ]
  },
  {
   "cell_type": "code",
   "execution_count": 2,
   "metadata": {},
   "outputs": [],
   "source": [
    "import psycopg2"
   ]
  },
  {
   "cell_type": "code",
   "execution_count": 6,
   "metadata": {},
   "outputs": [
    {
     "name": "stdout",
     "output_type": "stream",
     "text": [
      "Connection established successfully\n"
     ]
    }
   ],
   "source": [
    "db_name = 'pocra_db'\n",
    "user = 'postgres'\n",
    "password = 'postgres'\n",
    "host = \"localhost\"\n",
    "\n",
    "try:\n",
    "    db_conn = psycopg2.connect(host=host, database=db_name, user=user, password=password)\n",
    "    if(db_conn):\n",
    "        print(\"Connection established successfully\");\n",
    "except Exception as e:\n",
    "    print(\"Error occured during database connection\");"
   ]
  },
  {
   "cell_type": "code",
   "execution_count": 25,
   "metadata": {},
   "outputs": [],
   "source": [
    "#create cursor\n",
    "cur = db_conn.cursor()"
   ]
  },
  {
   "cell_type": "code",
   "execution_count": 41,
   "metadata": {},
   "outputs": [],
   "source": [
    "table_command = \"\"\"\n",
    "CREATE TABLE IF NOT EXISTS student(\n",
    "    student_id INTEGER PRIMARY KEY,\n",
    "    student_name VARCHAR(255) NOT NULL\n",
    "\n",
    ");\n",
    "\"\"\""
   ]
  },
  {
   "cell_type": "code",
   "execution_count": 42,
   "metadata": {},
   "outputs": [],
   "source": [
    "try:\n",
    "    cur.execute(table_command)\n",
    "    db_conn.commit()\n",
    "except Exception as e:\n",
    "    print(f\"Error is {e}\")\n",
    "    db_conn.rollback()\n"
   ]
  },
  {
   "cell_type": "code",
   "execution_count": 35,
   "metadata": {},
   "outputs": [],
   "source": [
    "students = [\n",
    "    {'id':1, 'name': 'Aakash'},\n",
    "    {'id':2, 'name': 'Akhil'},\n",
    "    {'id':3, 'name': 'Dinraj'},\n",
    "    {'id':4, 'name': 'Fahad'},\n",
    "    {'id':5, 'name': 'Vishnu'},\n",
    "]"
   ]
  },
  {
   "cell_type": "code",
   "execution_count": 38,
   "metadata": {},
   "outputs": [],
   "source": [
    "try:\n",
    "    for student in students:\n",
    "        cur.execute(f\"INSERT INTO student(student_id, student_name) VALUES({student['id']}, '{student['name']}')\")\n",
    "    \n",
    "    db_conn.commit()\n",
    "except Exception as e:\n",
    "    print(f\"Error: {e}\")\n",
    "    db_conn.rollback()"
   ]
  },
  {
   "cell_type": "code",
   "execution_count": 46,
   "metadata": {},
   "outputs": [
    {
     "name": "stdout",
     "output_type": "stream",
     "text": [
      "10\n",
      "10\n"
     ]
    }
   ],
   "source": [
    "a = 0\n",
    "def add_a():\n",
    "    global a\n",
    "    a = 10\n",
    "    print(a)\n",
    "add_a()\n",
    "print(a)"
   ]
  },
  {
   "cell_type": "code",
   "execution_count": null,
   "metadata": {},
   "outputs": [],
   "source": []
  }
 ],
 "metadata": {
  "kernelspec": {
   "display_name": "Python 3.10.10 ('pocraenv')",
   "language": "python",
   "name": "python3"
  },
  "language_info": {
   "codemirror_mode": {
    "name": "ipython",
    "version": 3
   },
   "file_extension": ".py",
   "mimetype": "text/x-python",
   "name": "python",
   "nbconvert_exporter": "python",
   "pygments_lexer": "ipython3",
   "version": "3.10.10"
  },
  "orig_nbformat": 4,
  "vscode": {
   "interpreter": {
    "hash": "95203a32b43e4c6ddfe7095f4f9849c2e4a0c745f4e6d0b4e304662726d8fab2"
   }
  }
 },
 "nbformat": 4,
 "nbformat_minor": 2
}
